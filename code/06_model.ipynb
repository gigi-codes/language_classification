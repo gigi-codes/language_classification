{
 "cells": [
  {
   "cell_type": "markdown",
   "metadata": {},
   "source": [
    "## Model 6 & 7 : Naive Bayes & Logistic Regressor, <i>revisisted</i>\n",
    "* <b>Logistic Regression</b>, _revisiting_\n",
    "* ~~Random Forest~~\n",
    "* <b>Naïve Bayes</b>, _revisiting_\n",
    "* ~~SVM~~\n",
    "\n",
    "### Model Performance Summary\n",
    "\n",
    "Logistic Regression and Naïve Bayes performed the best so far with Count Vectorizer, and endeavor to imporve using TF-IDF was unsusccessful.  Naïve Bayes Multinomial _\"normally requires integer feature counts. However, in practice, fractional counts such as TF-IDF may also work._ Term-frequency times inverse document-frequency is a weighting scheme, so while the documentation states it _may_ work, there was no improvement in either Logistic Regression or Naïve Bayes model performance using fractional weights.  \n",
    "\n",
    "Baseline: `0.5074`\n",
    "\n",
    "\n",
    "Model   | Transformer       | Classifier            | $n$  | x-val   | Train    | Test   \n",
    "---     |---                | ---                   | ---  | ---     | ---      | ---    \n",
    "1*      | Count Vectorizer  | Logistic Regressor    | 2605 | 0.7373  | 0.9723   | 0.7515 \n",
    "2*      | Count Vectorizer  | Logistic Regressor    | 4537 | 0.7111  | 0.9568   | 0.7436 \n",
    "3       | Count Vectorizer  | Random Forest\t        | 4537 | 0.7569  | 0.9855   | 0.7154 \n",
    "4       | Count Vectorizer  | Naïve Bayes\t        | 4537 | 0.7587  | 0.8628   | 0.7722 \n",
    "5       | TF-IDF            | SVM                   | 4537 | 0.7834  | 0.9793   | 0.7509   \n",
    "6       | TF-IDF            | Logistic Regressor    | 4537 | 0.7834  | 0.9671   | 0.7296 \n",
    "7       | TF-IDF            | Naïve Bayes           | 4537 | 0.7834  | 0.8989   | 0.7659  "
   ]
  },
  {
   "cell_type": "code",
   "execution_count": 1,
   "metadata": {},
   "outputs": [],
   "source": [
    "##### BASIC IMPORTS \n",
    "import numpy as np\n",
    "import pandas as pd\n",
    "import matplotlib.pyplot as plt\n",
    "import seaborn as sns\n",
    "\n",
    "##### MODELLING IMPORTS \n",
    "from sklearn.model_selection import cross_val_score, train_test_split, GridSearchCV\n",
    "from sklearn.pipeline import Pipeline\n",
    "from sklearn.metrics import confusion_matrix, plot_confusion_matrix\n",
    "from sklearn.svm import SVC\n",
    "from sklearn.linear_model import LogisticRegression\n",
    "from sklearn.naive_bayes import MultinomialNB\n",
    "\n",
    "##### VECTOR MODELLING IMPORTS \n",
    "from sklearn.feature_extraction.text import CountVectorizer, TfidfVectorizer\n",
    "from sklearn.metrics import accuracy_score, recall_score, classification_report\n",
    "from sklearn.feature_extraction import text   # TO MODIFY STOP WORDS \n",
    "\n",
    "from nltk.stem import WordNetLemmatizer"
   ]
  },
  {
   "cell_type": "code",
   "execution_count": 2,
   "metadata": {},
   "outputs": [],
   "source": [
    "# CUSTOM IMPORTS AND SETTINGS \n",
    "plt.style.use('gstyle.mplstyle')                        # stylesheet for sns\n",
    "color_cycle = ['#377eb8', '#ff7f00', '#4daf4a',         # colorlist, color blind pallet\n",
    "                  '#f781bf', '#a65628', '#984ea3',      # from gist.github.com/thriveth/8560036\n",
    "                  '#999999', '#e41a1c', '#dede00']\n",
    "\n",
    "sns.set_palette(sns.color_palette(color_cycle))         # setting custom palette\n",
    "\n",
    "pd.options.display.max_columns = 90                     # view settings\n",
    "pd.options.display.max_rows = 100"
   ]
  },
  {
   "cell_type": "code",
   "execution_count": 3,
   "metadata": {},
   "outputs": [
    {
     "data": {
      "text/plain": [
       "(4511, 2)"
      ]
     },
     "execution_count": 3,
     "metadata": {},
     "output_type": "execute_result"
    }
   ],
   "source": [
    "# importing clean file from model 2\n",
    "df = pd.read_csv('../data/reddit_2000_clean.csv')\n",
    "df.dropna(axis=0, inplace = True)\n",
    "df.shape"
   ]
  },
  {
   "cell_type": "code",
   "execution_count": 4,
   "metadata": {},
   "outputs": [
    {
     "data": {
      "text/html": [
       "<div>\n",
       "<style scoped>\n",
       "    .dataframe tbody tr th:only-of-type {\n",
       "        vertical-align: middle;\n",
       "    }\n",
       "\n",
       "    .dataframe tbody tr th {\n",
       "        vertical-align: top;\n",
       "    }\n",
       "\n",
       "    .dataframe thead th {\n",
       "        text-align: right;\n",
       "    }\n",
       "</style>\n",
       "<table border=\"1\" class=\"dataframe\">\n",
       "  <thead>\n",
       "    <tr style=\"text-align: right;\">\n",
       "      <th></th>\n",
       "      <th>corpus</th>\n",
       "      <th>class</th>\n",
       "    </tr>\n",
       "  </thead>\n",
       "  <tbody>\n",
       "    <tr>\n",
       "      <th>0</th>\n",
       "      <td>if you look around there are lots of horror st...</td>\n",
       "      <td>1</td>\n",
       "    </tr>\n",
       "    <tr>\n",
       "      <th>1</th>\n",
       "      <td>just to close on this tesla replaced the latch...</td>\n",
       "      <td>1</td>\n",
       "    </tr>\n",
       "    <tr>\n",
       "      <th>2</th>\n",
       "      <td>it pays to be a tesla owner</td>\n",
       "      <td>1</td>\n",
       "    </tr>\n",
       "    <tr>\n",
       "      <th>3</th>\n",
       "      <td>its happening a sub too will try and cross pos...</td>\n",
       "      <td>1</td>\n",
       "    </tr>\n",
       "    <tr>\n",
       "      <th>4</th>\n",
       "      <td>dat gullwing mmmm</td>\n",
       "      <td>1</td>\n",
       "    </tr>\n",
       "  </tbody>\n",
       "</table>\n",
       "</div>"
      ],
      "text/plain": [
       "                                              corpus  class\n",
       "0  if you look around there are lots of horror st...      1\n",
       "1  just to close on this tesla replaced the latch...      1\n",
       "2                       it pays to be a tesla owner       1\n",
       "3  its happening a sub too will try and cross pos...      1\n",
       "4                                  dat gullwing mmmm      1"
      ]
     },
     "execution_count": 4,
     "metadata": {},
     "output_type": "execute_result"
    }
   ],
   "source": [
    "df.head()"
   ]
  },
  {
   "cell_type": "markdown",
   "metadata": {},
   "source": [
    "### MODELING"
   ]
  },
  {
   "cell_type": "markdown",
   "metadata": {},
   "source": [
    "#### Grid and Pipe Setup, Fit, Score"
   ]
  },
  {
   "cell_type": "code",
   "execution_count": 8,
   "metadata": {},
   "outputs": [
    {
     "data": {
      "text/plain": [
       "GridSearchCV(cv=3,\n",
       "             estimator=Pipeline(steps=[('tvec',\n",
       "                                        TfidfVectorizer(stop_words=frozenset({'a',\n",
       "                                                                              'about',\n",
       "                                                                              'above',\n",
       "                                                                              'across',\n",
       "                                                                              'after',\n",
       "                                                                              'afterwards',\n",
       "                                                                              'again',\n",
       "                                                                              'against',\n",
       "                                                                              'all',\n",
       "                                                                              'almost',\n",
       "                                                                              'alone',\n",
       "                                                                              'along',\n",
       "                                                                              'already',\n",
       "                                                                              'also',\n",
       "                                                                              'although',\n",
       "                                                                              'always',\n",
       "                                                                              'am',\n",
       "                                                                              'among',\n",
       "                                                                              'amongst',\n",
       "                                                                              'amoungst',\n",
       "                                                                              'amount',\n",
       "                                                                              'an',\n",
       "                                                                              'and',\n",
       "                                                                              'another',\n",
       "                                                                              'any',\n",
       "                                                                              'anyhow',\n",
       "                                                                              'anyone',\n",
       "                                                                              'anything',\n",
       "                                                                              'anyway',\n",
       "                                                                              'anywhere', ...}))),\n",
       "                                       ('lr',\n",
       "                                        LogisticRegression(max_iter=1000))]),\n",
       "             param_grid={'lr__C': [0.01], 'lr__n_jobs': [-1],\n",
       "                         'tvec__max_df': [0.7], 'tvec__max_features': [2220],\n",
       "                         'tvec__min_df': [2], 'tvec__ngram_range': [(1, 1)]})"
      ]
     },
     "execution_count": 8,
     "metadata": {},
     "output_type": "execute_result"
    }
   ],
   "source": [
    "# New Model\n",
    "X = df['corpus']\n",
    "y = df['class']\n",
    "\n",
    "reddit_stopwords = ['porsche', 'tesla', 'taycan', 'model', 'car', 'xplaid', 'turbo']\n",
    "stopwords = text.ENGLISH_STOP_WORDS.union(reddit_stopwords) \n",
    "\n",
    "# train-test split\n",
    "Xt_train, Xt_test, yt_train, yt_test = train_test_split(X, y, random_state = 42, stratify = y)\n",
    "\n",
    "pipe = Pipeline([   \n",
    "    ('tvec', TfidfVectorizer(stop_words = stopwords)),   \n",
    "    ('lr', LogisticRegression(max_iter = 1000))                  \n",
    "])\n",
    "\n",
    "\n",
    "params = {\n",
    "    'tvec__max_features': [3000, 4000, 5000],\n",
    "    'tvec__min_df': [2, 3, 4],\n",
    "    'tvec__max_df': [.7,.95],\n",
    "    'tvec__ngram_range': [(1,1), (1,2),(1,3)],\n",
    "    'lr__C': [0.01, 0.1, 0.5, 1.0, 10.0],\n",
    "    'lr__solver': ['lbfgs', 'liblinear'],\n",
    "    'lr__n_jobs': [-1], \n",
    "}\n",
    "\n",
    "# Instantiate GridSearchCV.\n",
    "gs = GridSearchCV(pipe, params, cv = 3)\n",
    "\n",
    "# FIT gs \n",
    "gs.fit(Xt_train, yt_train)"
   ]
  },
  {
   "cell_type": "code",
   "execution_count": 11,
   "metadata": {},
   "outputs": [],
   "source": [
    "# model metrics \n",
    "x= ['LR Train', 'LR,t Train', 'LT,t Test', 'LR Test']\n",
    "model_mets = [0.9855,0.967188885604493, 0.7296099290780141, 0.7154 ]"
   ]
  },
  {
   "cell_type": "code",
   "execution_count": 12,
   "metadata": {},
   "outputs": [
    {
     "data": {
      "image/png": "[encoded data removed]",
      "text/plain": [
       "<Figure size 600x400 with 1 Axes>"
      ]
     },
     "metadata": {},
     "output_type": "display_data"
    },
    {
     "data": {
      "image/png": "[encoded data removed]",
      "text/plain": [
       "<Figure size 600x400 with 2 Axes>"
      ]
     },
     "metadata": {},
     "output_type": "display_data"
    }
   ],
   "source": [
    "# plot metrics\n",
    "f, ax = plt.subplots(figsize=(6, 4))\n",
    "ax.tick_params(bottom=False, left = False)  # remove the ticks\n",
    "plt.xlabel('Accuracy')\n",
    "\n",
    "sns.despine(left=True, bottom=True)\n",
    "sns.barplot(y = x, x = model_mets, palette='ocean')\n",
    "plt.show()\n",
    "\n",
    "sub_1 = \"Tesla X\"\n",
    "sub_2 = \"Taycan\"\n",
    "\n",
    "plot_confusion_matrix(gs, Xt_test, yt_test, cmap = 'Blues', display_labels = [sub_2, sub_1]);\n",
    "(sns.despine(left=True, bottom=True))\n",
    "\n",
    "# # Get predictions\n",
    "preds_tvec = gs.predict(Xt_test)\n",
    "\n",
    "# # Save confusion matrix values\n",
    "tn, fp, fn, tp = confusion_matrix(yt_test, preds_tvec).ravel()"
   ]
  },
  {
   "cell_type": "code",
   "execution_count": 24,
   "metadata": {},
   "outputs": [
    {
     "data": {
      "text/plain": [
       "GridSearchCV(cv=3,\n",
       "             estimator=Pipeline(steps=[('tvec',\n",
       "                                        TfidfVectorizer(stop_words=frozenset({'a',\n",
       "                                                                              'about',\n",
       "                                                                              'above',\n",
       "                                                                              'across',\n",
       "                                                                              'after',\n",
       "                                                                              'afterwards',\n",
       "                                                                              'again',\n",
       "                                                                              'against',\n",
       "                                                                              'all',\n",
       "                                                                              'almost',\n",
       "                                                                              'alone',\n",
       "                                                                              'along',\n",
       "                                                                              'already',\n",
       "                                                                              'also',\n",
       "                                                                              'although',\n",
       "                                                                              'always',\n",
       "                                                                              'am',\n",
       "                                                                              'among',\n",
       "                                                                              'amongst',\n",
       "                                                                              'amoungst',\n",
       "                                                                              'amount',\n",
       "                                                                              'an',\n",
       "                                                                              'and',\n",
       "                                                                              'another',\n",
       "                                                                              'any',\n",
       "                                                                              'anyhow',\n",
       "                                                                              'anyone',\n",
       "                                                                              'anything',\n",
       "                                                                              'anyway',\n",
       "                                                                              'anywhere', ...}))),\n",
       "                                       ('mnb', MultinomialNB())]),\n",
       "             param_grid={'tvec__max_df': [0.7, 0.95],\n",
       "                         'tvec__max_features': [2000, 3000, 4000, 5000],\n",
       "                         'tvec__min_df': [2, 3, 4],\n",
       "                         'tvec__ngram_range': [(1, 1), (1, 2), (1, 3)]})"
      ]
     },
     "execution_count": 24,
     "metadata": {},
     "output_type": "execute_result"
    }
   ],
   "source": [
    "# New Model\n",
    "X = df['corpus']\n",
    "y = df['class']\n",
    "\n",
    "reddit_stopwords = ['porsche', 'tesla', 'taycan', 'model', 'car', 'xplaid', 'turbo']\n",
    "stopwords = text.ENGLISH_STOP_WORDS.union(reddit_stopwords) \n",
    "\n",
    "# train-test split\n",
    "Xt_train, Xt_test, yt_train, yt_test = train_test_split(X, y, random_state = 42, stratify = y)\n",
    "\n",
    "pipe = Pipeline([   \n",
    "    ('tvec', TfidfVectorizer(stop_words = stopwords)),   \n",
    "    ('mnb', MultinomialNB()),          \n",
    "])\n",
    "\n",
    "params = {\n",
    "    'tvec__max_features': [2000, 3_000, 4000, 5000],\n",
    "    'tvec__min_df': [2, 3, 4],\n",
    "    'tvec__max_df': [.7,.95],\n",
    "    'tvec__ngram_range': [(1,1), (1,2),(1,3)],\n",
    "}\n",
    "\n",
    "# Instantiate GridSearchCV.\n",
    "gs = GridSearchCV(pipe, params, cv = 3)\n",
    "\n",
    "# FIT gs \n",
    "gs.fit(Xt_train, yt_train)"
   ]
  },
  {
   "cell_type": "code",
   "execution_count": 23,
   "metadata": {},
   "outputs": [
    {
     "data": {
      "text/plain": [
       "dict_keys(['memory', 'steps', 'verbose', 'tvec', 'mnb', 'tvec__analyzer', 'tvec__binary', 'tvec__decode_error', 'tvec__dtype', 'tvec__encoding', 'tvec__input', 'tvec__lowercase', 'tvec__max_df', 'tvec__max_features', 'tvec__min_df', 'tvec__ngram_range', 'tvec__norm', 'tvec__preprocessor', 'tvec__smooth_idf', 'tvec__stop_words', 'tvec__strip_accents', 'tvec__sublinear_tf', 'tvec__token_pattern', 'tvec__tokenizer', 'tvec__use_idf', 'tvec__vocabulary', 'mnb__alpha', 'mnb__class_prior', 'mnb__fit_prior'])"
      ]
     },
     "execution_count": 23,
     "metadata": {},
     "output_type": "execute_result"
    }
   ],
   "source": [
    "gs.estimator.get_params().keys()"
   ]
  },
  {
   "cell_type": "code",
   "execution_count": 25,
   "metadata": {},
   "outputs": [
    {
     "data": {
      "text/plain": [
       "(0.7484514002949315, 0.8989062961868164, 0.7659574468085106)"
      ]
     },
     "execution_count": 25,
     "metadata": {},
     "output_type": "execute_result"
    }
   ],
   "source": [
    "# evaluate, score on training set.\n",
    "gs.best_score_, gs.score(Xt_train, yt_train), gs.score(Xt_test, yt_test)"
   ]
  },
  {
   "cell_type": "code",
   "execution_count": 27,
   "metadata": {},
   "outputs": [
    {
     "data": {
      "image/png": "[encoded data removed]",
      "text/plain": [
       "<Figure size 600x400 with 1 Axes>"
      ]
     },
     "metadata": {},
     "output_type": "display_data"
    },
    {
     "data": {
      "image/png": "[encoded data removed]",
      "text/plain": [
       "<Figure size 600x400 with 2 Axes>"
      ]
     },
     "metadata": {},
     "output_type": "display_data"
    }
   ],
   "source": [
    "# model metrics \n",
    "x= ['LR Train', 'NB,t Train', 'NB,t Test', 'LR Test']\n",
    "model_mets = [0.9855, 0.8989062961868164, 0.7659574468085106, 0.7154 ]\n",
    "\n",
    "# plot metrics\n",
    "f, ax = plt.subplots(figsize=(6, 4))\n",
    "ax.tick_params(bottom=False, left = False)  # remove the ticks\n",
    "plt.xlabel('Accuracy')\n",
    "\n",
    "sns.despine(left=True, bottom=True)\n",
    "sns.barplot(y = x, x = model_mets, palette='ocean')\n",
    "plt.show()\n",
    "\n",
    "sub_1 = \"Tesla X\"\n",
    "sub_2 = \"Taycan\"\n",
    "\n",
    "plot_confusion_matrix(gs, Xt_test, yt_test, cmap = 'Blues', display_labels = [sub_2, sub_1]);\n",
    "(sns.despine(left=True, bottom=True))\n",
    "\n",
    "# # Get predictions\n",
    "preds_tvec = gs.predict(Xt_test)\n",
    "\n",
    "# # Save confusion matrix values\n",
    "tn, fp, fn, tp = confusion_matrix(yt_test, preds_tvec).ravel()"
   ]
  },
  {
   "cell_type": "code",
   "execution_count": 5,
   "metadata": {},
   "outputs": [
    {
     "data": {
      "text/plain": [
       "GridSearchCV(cv=3,\n",
       "             estimator=Pipeline(steps=[('cvec',\n",
       "                                        CountVectorizer(stop_words=frozenset({'a',\n",
       "                                                                              'about',\n",
       "                                                                              'above',\n",
       "                                                                              'across',\n",
       "                                                                              'after',\n",
       "                                                                              'afterwards',\n",
       "                                                                              'again',\n",
       "                                                                              'against',\n",
       "                                                                              'all',\n",
       "                                                                              'almost',\n",
       "                                                                              'alone',\n",
       "                                                                              'along',\n",
       "                                                                              'already',\n",
       "                                                                              'also',\n",
       "                                                                              'although',\n",
       "                                                                              'always',\n",
       "                                                                              'am',\n",
       "                                                                              'among',\n",
       "                                                                              'amongst',\n",
       "                                                                              'amoungst',\n",
       "                                                                              'amount',\n",
       "                                                                              'an',\n",
       "                                                                              'and',\n",
       "                                                                              'another',\n",
       "                                                                              'any',\n",
       "                                                                              'anyhow',\n",
       "                                                                              'anyone',\n",
       "                                                                              'anything',\n",
       "                                                                              'anyway',\n",
       "                                                                              'anywhere', ...})...\n",
       "                         'cvec__min_df': [2, 3, 4],\n",
       "                         'cvec__ngram_range': [(1, 1), (1, 2), (1, 3)],\n",
       "                         'cvec__stop_words': [frozenset({'a', 'about', 'above',\n",
       "                                                         'across', 'after',\n",
       "                                                         'afterwards', 'again',\n",
       "                                                         'against', 'all',\n",
       "                                                         'almost', 'alone',\n",
       "                                                         'along', 'already',\n",
       "                                                         'also', 'although',\n",
       "                                                         'always', 'am',\n",
       "                                                         'among', 'amongst',\n",
       "                                                         'amoungst', 'amount',\n",
       "                                                         'an', 'and', 'another',\n",
       "                                                         'any', 'anyhow',\n",
       "                                                         'anyone', 'anything',\n",
       "                                                         'anyway', 'anywhere', ...})]})"
      ]
     },
     "execution_count": 5,
     "metadata": {},
     "output_type": "execute_result"
    }
   ],
   "source": [
    "# New Model\n",
    "X = df['corpus']\n",
    "y = df['class']\n",
    "\n",
    "reddit_stopwords = ['porsche', 'tesla', 'taycan', 'model', 'car', 'xplaid', 'turbo']\n",
    "stopwords = text.ENGLISH_STOP_WORDS.union(reddit_stopwords) \n",
    "\n",
    "# train-test split\n",
    "Xt_train, Xt_test, yt_train, yt_test = train_test_split(X, y, random_state = 42, stratify = y)\n",
    "\n",
    "pipe = Pipeline([   \n",
    "    ('cvec', CountVectorizer(stop_words = stopwords)),   \n",
    "    ('mnb', MultinomialNB()),          \n",
    "])\n",
    "\n",
    "params = {\n",
    "    'cvec__max_features': [2000, 3_000, 4000, 5000],\n",
    "    'cvec__min_df': [2, 3, 4],\n",
    "    'cvec__max_df': [.7,.95],\n",
    "    'cvec__ngram_range': [(1,1), (1,2),(1,3)], \n",
    "    'cvec__stop_words': [stopwords],\n",
    "}\n",
    "\n",
    "# Instantiate GridSearchCV.\n",
    "gs = GridSearchCV(pipe, params, cv = 3)\n",
    "\n",
    "# FIT gs \n",
    "gs.fit(Xt_train, yt_train)"
   ]
  },
  {
   "cell_type": "code",
   "execution_count": 7,
   "metadata": {},
   "outputs": [
    {
     "data": {
      "text/plain": [
       "Pipeline(steps=[('cvec',\n",
       "                 CountVectorizer(max_df=0.7, max_features=5000, min_df=2,\n",
       "                                 ngram_range=(1, 3),\n",
       "                                 stop_words=frozenset({'a', 'about', 'above',\n",
       "                                                       'across', 'after',\n",
       "                                                       'afterwards', 'again',\n",
       "                                                       'against', 'all',\n",
       "                                                       'almost', 'alone',\n",
       "                                                       'along', 'already',\n",
       "                                                       'also', 'although',\n",
       "                                                       'always', 'am', 'among',\n",
       "                                                       'amongst', 'amoungst',\n",
       "                                                       'amount', 'an', 'and',\n",
       "                                                       'another', 'any',\n",
       "                                                       'anyhow', 'anyone',\n",
       "                                                       'anything', 'anyway',\n",
       "                                                       'anywhere', ...}))),\n",
       "                ('mnb', MultinomialNB())])"
      ]
     },
     "execution_count": 7,
     "metadata": {},
     "output_type": "execute_result"
    }
   ],
   "source": [
    "gs.best_estimator_"
   ]
  },
  {
   "cell_type": "code",
   "execution_count": 8,
   "metadata": {},
   "outputs": [
    {
     "data": {
      "text/plain": [
       "(0.7587975985954047, 0.8628436299142773, 0.7721631205673759)"
      ]
     },
     "execution_count": 8,
     "metadata": {},
     "output_type": "execute_result"
    }
   ],
   "source": [
    "# evaluate, score on training set.\n",
    "gs.best_score_, gs.score(Xt_train, yt_train), gs.score(Xt_test, yt_test)"
   ]
  },
  {
   "cell_type": "code",
   "execution_count": 11,
   "metadata": {},
   "outputs": [
    {
     "data": {
      "image/png": "[encoded data removed]",
      "text/plain": [
       "<Figure size 600x400 with 1 Axes>"
      ]
     },
     "metadata": {},
     "output_type": "display_data"
    },
    {
     "data": {
      "image/png": "[encoded data removed]",
      "text/plain": [
       "<Figure size 600x400 with 2 Axes>"
      ]
     },
     "metadata": {},
     "output_type": "display_data"
    }
   ],
   "source": [
    "# model metrics \n",
    "x= ['LR Train', 'NB,cv Train', 'NB,cv Test', 'LR Test']\n",
    "model_mets = [0.9855, 0.8628436299142773, 0.7721631205673759, 0.7154 ]\n",
    "\n",
    "# plot metrics\n",
    "f, ax = plt.subplots(figsize=(6, 4))\n",
    "ax.tick_params(bottom=False, left = False)  # remove the ticks\n",
    "plt.xlabel('Accuracy')\n",
    "\n",
    "sns.despine(left=True, bottom=True)\n",
    "sns.barplot(y = x, x = model_mets, palette='ocean')\n",
    "plt.show()\n",
    "\n",
    "sub_1 = \"Tesla X\"\n",
    "sub_2 = \"Taycan\"\n",
    "\n",
    "plot_confusion_matrix(gs, Xt_test, yt_test, cmap = 'Blues', display_labels = [sub_2, sub_1]);\n",
    "(sns.despine(left=True, bottom=True))\n",
    "\n",
    "# # Get predictions\n",
    "preds_tvec = gs.predict(Xt_test)\n",
    "\n",
    "# # Save confusion matrix values\n",
    "tn, fp, fn, tp = confusion_matrix(yt_test, preds_tvec).ravel()"
   ]
  }
 ],
 "metadata": {
  "interpreter": {
   "hash": "40d3a090f54c6569ab1632332b64b2c03c39dcf918b08424e98f38b5ae0af88f"
  },
  "kernelspec": {
   "display_name": "Python 3.9.7 ('base')",
   "language": "python",
   "name": "python3"
  },
  "language_info": {
   "codemirror_mode": {
    "name": "ipython",
    "version": 3
   },
   "file_extension": ".py",
   "mimetype": "text/x-python",
   "name": "python",
   "nbconvert_exporter": "python",
   "pygments_lexer": "ipython3",
   "version": "3.9.7"
  },
  "orig_nbformat": 4
 },
 "nbformat": 4,
 "nbformat_minor": 2
}
