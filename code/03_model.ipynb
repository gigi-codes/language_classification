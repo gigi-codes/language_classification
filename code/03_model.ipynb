{
 "cells": [
  {
   "cell_type": "markdown",
   "metadata": {},
   "source": [
    "## Model 3: Random Forest\n",
    "* ~~Logistic Regression~~\n",
    "* <i><b>Random Forests:</b> with Grid Search</i>\n",
    "* Naïve Bayes\n",
    "* SVM\n",
    "\n",
    "#### Model Performance Summary \n",
    "Random Forests accuracy for test vs train sets shows very overfit model, even with optimized hyperparameters over a gridsearch, and worse performance than Logistic Regression and Count Vectorizer. \n",
    "\n",
    "Model   | Transformer       | Classifier            | $n$  | x-val   | Train    | Test   |  Precision    | Specificity  | Recall\n",
    "---     |---                | ---                   | ---  | ---     | ---      | ---    |  ---          | ---          | ---\n",
    "1*      | Count Vectorizer  | Logistic Regressor    | 2605 | 0.7373  | 0.9723   | 0.7515 | 0.7436        | 0.7179       | 0.7838 \n",
    "2*      | Count Vectorizer  | Logistic Regressor    | 4537 | 0.7111  | 0.9568   | 0.7436 | 0.7527        | 0.7496       | 0.7396\n",
    "3       | Count Vectorizer  | Random Forest\t        | 4537 | 0.7569  | 0.9855   | 0.7154 | 0.7126        | 0.696        |0.7325"
   ]
  },
  {
   "cell_type": "code",
   "execution_count": 1,
   "metadata": {},
   "outputs": [],
   "source": [
    "##### BASIC IMPORTS \n",
    "import numpy as np\n",
    "import pandas as pd\n",
    "import matplotlib.pyplot as plt\n",
    "import seaborn as sns\n",
    "\n",
    "##### MODELLING IMPORTS \n",
    "from sklearn.model_selection import cross_val_score, train_test_split, GridSearchCV\n",
    "from sklearn.pipeline import Pipeline\n",
    "from sklearn.metrics import confusion_matrix, plot_confusion_matrix\n",
    "from sklearn.naive_bayes import MultinomialNB\n",
    "from sklearn.tree import DecisionTreeClassifier\n",
    "from sklearn.ensemble import RandomForestClassifier\n",
    "\n",
    "##### VECTOR MODELLING IMPORTS \n",
    "from sklearn.feature_extraction.text import CountVectorizer\n",
    "from sklearn.feature_extraction import text   # TO MODIFY STOP WORDS \n",
    "\n",
    "from sklearn.metrics import accuracy_score"
   ]
  },
  {
   "cell_type": "code",
   "execution_count": 2,
   "metadata": {},
   "outputs": [],
   "source": [
    "# CUSTOM IMPORTS AND SETTINGS \n",
    "plt.style.use('gstyle.mplstyle')                        # stylesheet for sns\n",
    "color_cycle = ['#377eb8', '#ff7f00', '#4daf4a',         # colorlist, color blind pallet\n",
    "                  '#f781bf', '#a65628', '#984ea3',      # from gist.github.com/thriveth/8560036\n",
    "                  '#999999', '#e41a1c', '#dede00']\n",
    "\n",
    "sns.set_palette(sns.color_palette(color_cycle))         # setting custom palette\n",
    "\n",
    "pd.options.display.max_columns = 90                     # view settings\n",
    "pd.options.display.max_rows = 100"
   ]
  },
  {
   "cell_type": "code",
   "execution_count": 5,
   "metadata": {},
   "outputs": [
    {
     "data": {
      "text/html": [
       "<div>\n",
       "<style scoped>\n",
       "    .dataframe tbody tr th:only-of-type {\n",
       "        vertical-align: middle;\n",
       "    }\n",
       "\n",
       "    .dataframe tbody tr th {\n",
       "        vertical-align: top;\n",
       "    }\n",
       "\n",
       "    .dataframe thead th {\n",
       "        text-align: right;\n",
       "    }\n",
       "</style>\n",
       "<table border=\"1\" class=\"dataframe\">\n",
       "  <thead>\n",
       "    <tr style=\"text-align: right;\">\n",
       "      <th></th>\n",
       "      <th>corpus</th>\n",
       "      <th>class</th>\n",
       "    </tr>\n",
       "  </thead>\n",
       "  <tbody>\n",
       "    <tr>\n",
       "      <th>0</th>\n",
       "      <td>if you look around there are lots of horror st...</td>\n",
       "      <td>1</td>\n",
       "    </tr>\n",
       "    <tr>\n",
       "      <th>1</th>\n",
       "      <td>just to close on this tesla replaced the latch...</td>\n",
       "      <td>1</td>\n",
       "    </tr>\n",
       "    <tr>\n",
       "      <th>2</th>\n",
       "      <td>it pays to be a tesla owner</td>\n",
       "      <td>1</td>\n",
       "    </tr>\n",
       "    <tr>\n",
       "      <th>3</th>\n",
       "      <td>its happening a sub too will try and cross pos...</td>\n",
       "      <td>1</td>\n",
       "    </tr>\n",
       "    <tr>\n",
       "      <th>4</th>\n",
       "      <td>dat gullwing mmmm</td>\n",
       "      <td>1</td>\n",
       "    </tr>\n",
       "  </tbody>\n",
       "</table>\n",
       "</div>"
      ],
      "text/plain": [
       "                                              corpus  class\n",
       "0  if you look around there are lots of horror st...      1\n",
       "1  just to close on this tesla replaced the latch...      1\n",
       "2                       it pays to be a tesla owner       1\n",
       "3  its happening a sub too will try and cross pos...      1\n",
       "4                                  dat gullwing mmmm      1"
      ]
     },
     "execution_count": 5,
     "metadata": {},
     "output_type": "execute_result"
    }
   ],
   "source": [
    "# importing clean file output from model 2 \n",
    "df = pd.read_csv('../data/reddit_2000_clean.csv')\n",
    "df.dropna(axis=0, inplace = True)\n",
    "df.head()"
   ]
  },
  {
   "cell_type": "markdown",
   "metadata": {},
   "source": [
    "### MODELING"
   ]
  },
  {
   "cell_type": "code",
   "execution_count": 6,
   "metadata": {},
   "outputs": [],
   "source": [
    "# start X, y \n",
    "# NOTE: CountVectorizer requires a vector, so make sure you set X to be a pandas Series, not a DataFrame.\n",
    "X = df['corpus']\n",
    "y = df['class']"
   ]
  },
  {
   "cell_type": "markdown",
   "metadata": {},
   "source": [
    "#### Pre-processing\n",
    "Using same `stop_words` list to ensure subreddit title and closely-associated terms are not used in model. "
   ]
  },
  {
   "cell_type": "code",
   "execution_count": 7,
   "metadata": {},
   "outputs": [],
   "source": [
    "reddit_stopwords = ['porsche', 'tesla', 'taycan', 'model', 'car', 'xplaid', 'turbo']\n",
    "stopwords = text.ENGLISH_STOP_WORDS.union(reddit_stopwords)"
   ]
  },
  {
   "cell_type": "markdown",
   "metadata": {},
   "source": [
    "#### Random Forest Classifier "
   ]
  },
  {
   "cell_type": "code",
   "execution_count": 8,
   "metadata": {},
   "outputs": [
    {
     "data": {
      "text/plain": [
       "1    0.507205\n",
       "0    0.492795\n",
       "Name: class, dtype: float64"
      ]
     },
     "execution_count": 8,
     "metadata": {},
     "output_type": "execute_result"
    }
   ],
   "source": [
    "# REMINDER: baseline\n",
    "y.value_counts(normalize = True)  "
   ]
  },
  {
   "cell_type": "code",
   "execution_count": 9,
   "metadata": {},
   "outputs": [],
   "source": [
    "# train-test split\n",
    "# can use \"class_weights = \" if we want \n",
    "X_train, X_test, y_train, y_test = train_test_split(X, y, random_state = 42, stratify = y)"
   ]
  },
  {
   "cell_type": "markdown",
   "metadata": {},
   "source": [
    "#### Grid and Pipe Setup, Fit, Score"
   ]
  },
  {
   "cell_type": "code",
   "execution_count": 10,
   "metadata": {},
   "outputs": [],
   "source": [
    "pipe = Pipeline([                                           \n",
    "    ('cvec', CountVectorizer(stop_words=stopwords)),                            \n",
    "    ('rf', RandomForestClassifier(n_estimators=100))        \n",
    "])"
   ]
  },
  {
   "cell_type": "code",
   "execution_count": 14,
   "metadata": {},
   "outputs": [],
   "source": [
    "pipe_params = {\n",
    "    'cvec__max_df': [0.7, 0.8, .9, .95],\n",
    "    'cvec__max_features': [3000, 4000, 5000, 7000],\n",
    "    'cvec__min_df': [2, 3],\n",
    "    'cvec__ngram_range': [(1,1), (1,2), (1,3)],\n",
    "    'cvec__stop_words': [stopwords],\n",
    "    'rf__max_depth': [None, 1, 2, 3, 4, 5],\n",
    "    'rf__n_estimators': [100, 150, 200],\n",
    "    'rf__n_jobs': [-1], \n",
    "}"
   ]
  },
  {
   "cell_type": "code",
   "execution_count": 15,
   "metadata": {},
   "outputs": [],
   "source": [
    "# Instantiate GridSearchCV object\n",
    "gs = GridSearchCV(pipe, pipe_params, cv = 3)"
   ]
  },
  {
   "cell_type": "code",
   "execution_count": 16,
   "metadata": {},
   "outputs": [
    {
     "data": {
      "text/plain": [
       "GridSearchCV(cv=3,\n",
       "             estimator=Pipeline(steps=[('cvec',\n",
       "                                        CountVectorizer(stop_words=frozenset({'a',\n",
       "                                                                              'about',\n",
       "                                                                              'above',\n",
       "                                                                              'across',\n",
       "                                                                              'after',\n",
       "                                                                              'afterwards',\n",
       "                                                                              'again',\n",
       "                                                                              'against',\n",
       "                                                                              'all',\n",
       "                                                                              'almost',\n",
       "                                                                              'alone',\n",
       "                                                                              'along',\n",
       "                                                                              'already',\n",
       "                                                                              'also',\n",
       "                                                                              'although',\n",
       "                                                                              'always',\n",
       "                                                                              'am',\n",
       "                                                                              'among',\n",
       "                                                                              'amongst',\n",
       "                                                                              'amoungst',\n",
       "                                                                              'amount',\n",
       "                                                                              'an',\n",
       "                                                                              'and',\n",
       "                                                                              'another',\n",
       "                                                                              'any',\n",
       "                                                                              'anyhow',\n",
       "                                                                              'anyone',\n",
       "                                                                              'anything',\n",
       "                                                                              'anyway',\n",
       "                                                                              'anywhere', ...})...\n",
       "                         'cvec__stop_words': [frozenset({'a', 'about', 'above',\n",
       "                                                         'across', 'after',\n",
       "                                                         'afterwards', 'again',\n",
       "                                                         'against', 'all',\n",
       "                                                         'almost', 'alone',\n",
       "                                                         'along', 'already',\n",
       "                                                         'also', 'although',\n",
       "                                                         'always', 'am',\n",
       "                                                         'among', 'amongst',\n",
       "                                                         'amoungst', 'amount',\n",
       "                                                         'an', 'and', 'another',\n",
       "                                                         'any', 'anyhow',\n",
       "                                                         'anyone', 'anything',\n",
       "                                                         'anyway', 'anywhere', ...})],\n",
       "                         'rf__max_depth': [None, 1, 2, 3, 4, 5],\n",
       "                         'rf__n_estimators': [100, 150, 200],\n",
       "                         'rf__n_jobs': [-1]})"
      ]
     },
     "execution_count": 16,
     "metadata": {},
     "output_type": "execute_result"
    }
   ],
   "source": [
    "# FIT gs \n",
    "gs.fit(X_train, y_train)"
   ]
  },
  {
   "cell_type": "code",
   "execution_count": 2,
   "metadata": {},
   "outputs": [],
   "source": [
    "# ### all accuracy metrics \n",
    "# x= ['x-val', 'RF Train', 'RF Test']\n",
    "# model_mets = [ \n",
    "#     gs.best_score_,                 # estimate with x-val\n",
    "#     gs.score(X_train, y_train),     # train score \n",
    "#     gs.score(X_test, y_test)      # test score \n",
    "#      ]\n",
    "# model_mets"
   ]
  },
  {
   "cell_type": "code",
   "execution_count": 20,
   "metadata": {},
   "outputs": [
    {
     "data": {
      "image/png": "[encoded data removed]",
      "text/plain": [
       "<Figure size 600x400 with 1 Axes>"
      ]
     },
     "metadata": {},
     "output_type": "display_data"
    }
   ],
   "source": [
    "f, ax = plt.subplots(figsize=(6, 4))\n",
    "ax.tick_params(bottom=False, left = False)  # remove the ticks\n",
    "plt.xlabel('Accuracy')\n",
    "\n",
    "sns.despine(left=True, bottom=True)\n",
    "sns.barplot(y = x, x = model_mets, palette='ocean')\n",
    "plt.show()"
   ]
  },
  {
   "cell_type": "code",
   "execution_count": 3,
   "metadata": {},
   "outputs": [],
   "source": [
    "# gs.best_estimator_.feature_importances_\n",
    "#gs.best_params_"
   ]
  },
  {
   "cell_type": "code",
   "execution_count": 22,
   "metadata": {},
   "outputs": [],
   "source": [
    "# Get predictions\n",
    "preds = gs.predict(X_test)\n",
    "\n",
    "# Save confusion matrix values\n",
    "tn, fp, fn, tp = confusion_matrix(y_test, preds).ravel()"
   ]
  },
  {
   "cell_type": "code",
   "execution_count": 23,
   "metadata": {},
   "outputs": [
    {
     "data": {
      "text/plain": [
       "[0.7126, 0.696, 0.7325]"
      ]
     },
     "execution_count": 23,
     "metadata": {},
     "output_type": "execute_result"
    }
   ],
   "source": [
    "# precision, specificity, recall \n",
    "class_mets = [\n",
    "    round(tp/(tp + fp), 4),\n",
    "    round(tn/(tn + fp), 4), \n",
    "    round(tp/(tp + fn), 4)\n",
    "]\n",
    "class_mets\n",
    "\n",
    "# higher recall means more Teslas were correcctly IDed, and lower specificity shows better classification for Taycan"
   ]
  },
  {
   "cell_type": "code",
   "execution_count": 24,
   "metadata": {},
   "outputs": [
    {
     "data": {
      "image/png": "[encoded data removed]",
      "text/plain": [
       "<Figure size 600x400 with 2 Axes>"
      ]
     },
     "metadata": {},
     "output_type": "display_data"
    }
   ],
   "source": [
    "sub_1 = \"Tesla X\"\n",
    "sub_2 = \"Taycan\"\n",
    "\n",
    "plot_confusion_matrix(gs, X_test, y_test, cmap = 'Blues', display_labels = [sub_2, sub_1]);\n",
    "(sns.despine(left=True, bottom=True))"
   ]
  },
  {
   "cell_type": "code",
   "execution_count": 28,
   "metadata": {},
   "outputs": [
    {
     "data": {
      "text/html": [
       "<div>\n",
       "<style scoped>\n",
       "    .dataframe tbody tr th:only-of-type {\n",
       "        vertical-align: middle;\n",
       "    }\n",
       "\n",
       "    .dataframe tbody tr th {\n",
       "        vertical-align: top;\n",
       "    }\n",
       "\n",
       "    .dataframe thead th {\n",
       "        text-align: right;\n",
       "    }\n",
       "</style>\n",
       "<table border=\"1\" class=\"dataframe\">\n",
       "  <thead>\n",
       "    <tr style=\"text-align: right;\">\n",
       "      <th></th>\n",
       "      <th>corpus</th>\n",
       "    </tr>\n",
       "  </thead>\n",
       "  <tbody>\n",
       "    <tr>\n",
       "      <th>2136</th>\n",
       "      <td>hi all  im wanting to join the community i hav...</td>\n",
       "    </tr>\n",
       "    <tr>\n",
       "      <th>547</th>\n",
       "      <td>yeah the performance version has white seats w...</td>\n",
       "    </tr>\n",
       "    <tr>\n",
       "      <th>48</th>\n",
       "      <td>thank you</td>\n",
       "    </tr>\n",
       "    <tr>\n",
       "      <th>2124</th>\n",
       "      <td>hello am out of options so i figured i would t...</td>\n",
       "    </tr>\n",
       "    <tr>\n",
       "      <th>375</th>\n",
       "      <td>yea last night</td>\n",
       "    </tr>\n",
       "    <tr>\n",
       "      <th>920</th>\n",
       "      <td>you can dial in the settings more deliberately...</td>\n",
       "    </tr>\n",
       "    <tr>\n",
       "      <th>1376</th>\n",
       "      <td>it kind of baffles me these cars have been sit...</td>\n",
       "    </tr>\n",
       "    <tr>\n",
       "      <th>1498</th>\n",
       "      <td>i have the yakima i like it i highly recommend...</td>\n",
       "    </tr>\n",
       "    <tr>\n",
       "      <th>2166</th>\n",
       "      <td>the windows in my  model x go up and down abou...</td>\n",
       "    </tr>\n",
       "    <tr>\n",
       "      <th>663</th>\n",
       "      <td>nice leaderboard uspiro at  nices urepliesnic...</td>\n",
       "    </tr>\n",
       "    <tr>\n",
       "      <th>2296</th>\n",
       "      <td>i have stairs in the garage that currently blo...</td>\n",
       "    </tr>\n",
       "    <tr>\n",
       "      <th>1259</th>\n",
       "      <td>great it will change your life and your wallet</td>\n",
       "    </tr>\n",
       "    <tr>\n",
       "      <th>402</th>\n",
       "      <td>same also got these which are nice</td>\n",
       "    </tr>\n",
       "    <tr>\n",
       "      <th>1677</th>\n",
       "      <td>you might want to check with tesla before ive ...</td>\n",
       "    </tr>\n",
       "    <tr>\n",
       "      <th>1634</th>\n",
       "      <td>right if it was performance</td>\n",
       "    </tr>\n",
       "    <tr>\n",
       "      <th>1622</th>\n",
       "      <td>but if theyve already invested the time and mo...</td>\n",
       "    </tr>\n",
       "    <tr>\n",
       "      <th>775</th>\n",
       "      <td>i own the xrack and have used it in my  and  x...</td>\n",
       "    </tr>\n",
       "    <tr>\n",
       "      <th>1026</th>\n",
       "      <td>do you know the name</td>\n",
       "    </tr>\n",
       "    <tr>\n",
       "      <th>906</th>\n",
       "      <td>especially the d which is not kwh and suffers ...</td>\n",
       "    </tr>\n",
       "    <tr>\n",
       "      <th>1649</th>\n",
       "      <td>i came from a porsche panamera  and i am amaze...</td>\n",
       "    </tr>\n",
       "    <tr>\n",
       "      <th>942</th>\n",
       "      <td>ive been looking high and low and while some a...</td>\n",
       "    </tr>\n",
       "    <tr>\n",
       "      <th>876</th>\n",
       "      <td>likewise happy spaceshipx day to you</td>\n",
       "    </tr>\n",
       "    <tr>\n",
       "      <th>162</th>\n",
       "      <td>what year ish did they stop using inductive mo...</td>\n",
       "    </tr>\n",
       "    <tr>\n",
       "      <th>1214</th>\n",
       "      <td>i dont believe so</td>\n",
       "    </tr>\n",
       "    <tr>\n",
       "      <th>122</th>\n",
       "      <td>i dont know the specifics of the gripes i will...</td>\n",
       "    </tr>\n",
       "    <tr>\n",
       "      <th>2238</th>\n",
       "      <td>hey there  my husband has a model x whenever h...</td>\n",
       "    </tr>\n",
       "    <tr>\n",
       "      <th>710</th>\n",
       "      <td>do you need an account to see what the softwar...</td>\n",
       "    </tr>\n",
       "    <tr>\n",
       "      <th>1139</th>\n",
       "      <td>too short to tell just got them installed the ...</td>\n",
       "    </tr>\n",
       "    <tr>\n",
       "      <th>1398</th>\n",
       "      <td>so accurate</td>\n",
       "    </tr>\n",
       "    <tr>\n",
       "      <th>841</th>\n",
       "      <td>gt yakima fullswing you so much</td>\n",
       "    </tr>\n",
       "    <tr>\n",
       "      <th>1725</th>\n",
       "      <td>that and also efficiency every year youll noti...</td>\n",
       "    </tr>\n",
       "    <tr>\n",
       "      <th>928</th>\n",
       "      <td>getting ours in a couple of weeks do you love it</td>\n",
       "    </tr>\n",
       "    <tr>\n",
       "      <th>2171</th>\n",
       "      <td>ampxb</td>\n",
       "    </tr>\n",
       "    <tr>\n",
       "      <th>1697</th>\n",
       "      <td>i was considering that did the tesla warranty ...</td>\n",
       "    </tr>\n",
       "    <tr>\n",
       "      <th>1767</th>\n",
       "      <td>battery size was reduced by kwh</td>\n",
       "    </tr>\n",
       "    <tr>\n",
       "      <th>888</th>\n",
       "      <td>wait so clicking the t at the top wont bring u...</td>\n",
       "    </tr>\n",
       "    <tr>\n",
       "      <th>1532</th>\n",
       "      <td>on the other end they are pushing for y delive...</td>\n",
       "    </tr>\n",
       "    <tr>\n",
       "      <th>860</th>\n",
       "      <td>what year did you get</td>\n",
       "    </tr>\n",
       "    <tr>\n",
       "      <th>1910</th>\n",
       "      <td>thank you bot good bot</td>\n",
       "    </tr>\n",
       "    <tr>\n",
       "      <th>1021</th>\n",
       "      <td>this is such a stupid reply im sure tesla love...</td>\n",
       "    </tr>\n",
       "  </tbody>\n",
       "</table>\n",
       "</div>"
      ],
      "text/plain": [
       "                                                 corpus\n",
       "2136  hi all  im wanting to join the community i hav...\n",
       "547   yeah the performance version has white seats w...\n",
       "48                                            thank you\n",
       "2124  hello am out of options so i figured i would t...\n",
       "375                                      yea last night\n",
       "920   you can dial in the settings more deliberately...\n",
       "1376  it kind of baffles me these cars have been sit...\n",
       "1498  i have the yakima i like it i highly recommend...\n",
       "2166  the windows in my  model x go up and down abou...\n",
       "663    nice leaderboard uspiro at  nices urepliesnic...\n",
       "2296  i have stairs in the garage that currently blo...\n",
       "1259     great it will change your life and your wallet\n",
       "402                  same also got these which are nice\n",
       "1677  you might want to check with tesla before ive ...\n",
       "1634                        right if it was performance\n",
       "1622  but if theyve already invested the time and mo...\n",
       "775   i own the xrack and have used it in my  and  x...\n",
       "1026                               do you know the name\n",
       "906   especially the d which is not kwh and suffers ...\n",
       "1649  i came from a porsche panamera  and i am amaze...\n",
       "942   ive been looking high and low and while some a...\n",
       "876                likewise happy spaceshipx day to you\n",
       "162   what year ish did they stop using inductive mo...\n",
       "1214                                  i dont believe so\n",
       "122   i dont know the specifics of the gripes i will...\n",
       "2238  hey there  my husband has a model x whenever h...\n",
       "710   do you need an account to see what the softwar...\n",
       "1139  too short to tell just got them installed the ...\n",
       "1398                                       so accurate \n",
       "841                     gt yakima fullswing you so much\n",
       "1725  that and also efficiency every year youll noti...\n",
       "928    getting ours in a couple of weeks do you love it\n",
       "2171                                              ampxb\n",
       "1697  i was considering that did the tesla warranty ...\n",
       "1767                    battery size was reduced by kwh\n",
       "888   wait so clicking the t at the top wont bring u...\n",
       "1532  on the other end they are pushing for y delive...\n",
       "860                               what year did you get\n",
       "1910                             thank you bot good bot\n",
       "1021  this is such a stupid reply im sure tesla love..."
      ]
     },
     "execution_count": 28,
     "metadata": {},
     "output_type": "execute_result"
    }
   ],
   "source": [
    "mask = (y_test != preds) & (preds == 0)\n",
    "false_negatives = pd.DataFrame(X_test[mask])\n",
    "\n",
    "# exporting missed comments to analyse\n",
    "df.to_csv('../data/missed03.txt', index = False)\n",
    "\n",
    "false_negatives[:40]"
   ]
  }
 ],
 "metadata": {
  "interpreter": {
   "hash": "40d3a090f54c6569ab1632332b64b2c03c39dcf918b08424e98f38b5ae0af88f"
  },
  "kernelspec": {
   "display_name": "Python 3.9.7 ('base')",
   "language": "python",
   "name": "python3"
  },
  "language_info": {
   "codemirror_mode": {
    "name": "ipython",
    "version": 3
   },
   "file_extension": ".py",
   "mimetype": "text/x-python",
   "name": "python",
   "nbconvert_exporter": "python",
   "pygments_lexer": "ipython3",
   "version": "3.9.7"
  },
  "orig_nbformat": 4
 },
 "nbformat": 4,
 "nbformat_minor": 2
}
