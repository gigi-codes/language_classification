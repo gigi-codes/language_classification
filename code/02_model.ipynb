{
 "cells": [
  {
   "cell_type": "markdown",
   "metadata": {},
   "source": [
    "## Model 2: Logistic Regression + Count Vectorizer, $n$ = 4537 \n",
    "\n",
    "* <i><b>Logistic Regression: </b>More Data</i> \n",
    "* Random Forests\n",
    "* Naïve Bayes\n",
    "* SVM\n",
    "\n",
    "#### Model Performance Summary: \n",
    "\n",
    "Both estimators trained models that preformed surprisingly well for the data provided, the stopwords and the lack of hyperparameter tuning over a gridsearch. \n",
    "\n",
    "Model   | Transformer       | Classifier            | $n$  | x-val   | Train    | Test   |  Precision    | Specificity   | Recall\n",
    "---     |---                | ---                   | ---  | ---     | ---      | ---    |  ---          | ---           | ---\n",
    "1       | Count Vectorizer  | Logistic Regressor    | 2605 | 0.7373  | 0.9723   | 0.7515 | 0.7436        | 0.7179        | 0.7838 \n",
    "2       | Count Vectorizer  | Logistic Regressor    | 4537 | 0.7111  | 0.9568   | 0.7436 | 0.7527        |  0.7496       | 0.7396"
   ]
  },
  {
   "cell_type": "code",
   "execution_count": 73,
   "metadata": {},
   "outputs": [],
   "source": [
    "##### BASIC IMPORTS \n",
    "import numpy as np\n",
    "import pandas as pd\n",
    "import matplotlib.pyplot as plt\n",
    "import seaborn as sns\n",
    "\n",
    "##### MODELLING IMPORTS \n",
    "from sklearn.model_selection import cross_val_score, train_test_split\n",
    "from sklearn.linear_model import LogisticRegression\n",
    "from sklearn.metrics import confusion_matrix, plot_confusion_matrix, classification_report\n",
    "\n",
    "##### VECTOR MODELLING IMPORTS \n",
    "from sklearn.feature_extraction.text import CountVectorizer\n",
    "from sklearn.feature_extraction import text   # TO MODIFY STOP WORDS "
   ]
  },
  {
   "cell_type": "code",
   "execution_count": 37,
   "metadata": {},
   "outputs": [],
   "source": [
    "# CUSTOM IMPORTS AND SETTINGS \n",
    "plt.style.use('gstyle.mplstyle')                        # stylesheet for sns\n",
    "color_cycle = ['#377eb8', '#ff7f00', '#4daf4a',         # colorlist, color blind pallet\n",
    "                  '#f781bf', '#a65628', '#984ea3',      # from gist.github.com/thriveth/8560036\n",
    "                  '#999999', '#e41a1c', '#dede00']\n",
    "\n",
    "sns.set_palette(sns.color_palette(color_cycle))         # setting custom palette\n",
    "\n",
    "pd.options.display.max_columns = 90                     # view settings\n",
    "pd.options.display.max_rows = 100"
   ]
  },
  {
   "cell_type": "code",
   "execution_count": 38,
   "metadata": {},
   "outputs": [
    {
     "data": {
      "text/plain": [
       "(5567, 2)"
      ]
     },
     "execution_count": 38,
     "metadata": {},
     "output_type": "execute_result"
    }
   ],
   "source": [
    "df = pd.read_csv('../data/reddit2000.csv')\n",
    "df.shape"
   ]
  },
  {
   "cell_type": "markdown",
   "metadata": {},
   "source": [
    "### CLEANING & PREPROCESSING"
   ]
  },
  {
   "cell_type": "code",
   "execution_count": 40,
   "metadata": {},
   "outputs": [
    {
     "data": {
      "text/plain": [
       "(4537, 2)"
      ]
     },
     "execution_count": 40,
     "metadata": {},
     "output_type": "execute_result"
    }
   ],
   "source": [
    "df.rename(columns = {'0': 'corpus'}, inplace=True)          # rename column 0 column to dictionary \n",
    "df.drop_duplicates(inplace = True)                          # drop duplicates \n",
    "df.dropna(axis=0, inplace = True)                           # drop all nulls\n",
    "df.shape"
   ]
  },
  {
   "cell_type": "code",
   "execution_count": 41,
   "metadata": {},
   "outputs": [],
   "source": [
    "# removing link strings, newline characters\n",
    "df['corpus'] = df['corpus'].replace('http\\S+', '', regex=True).replace('www\\S+', '', regex=True).replace('\\n\\n\\S+', '', regex=True)\n",
    "\n",
    "# removing non-alpha characters, which will also eliminate some model #s and model-specific identifiers\n",
    "df['corpus'] = df['corpus'].replace(r\"[^a-zA-Z ]\", '', regex = True)\n",
    "\n",
    "# convert to lower case\n",
    "df['corpus'] = df['corpus'].str.lower()"
   ]
  },
  {
   "cell_type": "code",
   "execution_count": 47,
   "metadata": {},
   "outputs": [
    {
     "data": {
      "text/plain": [
       "(4537, 2)"
      ]
     },
     "execution_count": 47,
     "metadata": {},
     "output_type": "execute_result"
    }
   ],
   "source": [
    "# exporting cleaned file for future import into separate models ? \n",
    "df.to_csv('../data/reddit_2000_clean.csv', index = False)\n",
    "df.shape"
   ]
  },
  {
   "cell_type": "markdown",
   "metadata": {},
   "source": [
    "## MODELING"
   ]
  },
  {
   "cell_type": "code",
   "execution_count": 48,
   "metadata": {},
   "outputs": [],
   "source": [
    "# start X, y \n",
    "# NOTE: CountVectorizer requires a vector, so make sure you set X to be a pandas Series, not a DataFrame.\n",
    "X = df['corpus']\n",
    "y = df['class']"
   ]
  },
  {
   "cell_type": "code",
   "execution_count": 49,
   "metadata": {},
   "outputs": [
    {
     "data": {
      "text/plain": [
       "1    0.507384\n",
       "0    0.492616\n",
       "Name: class, dtype: float64"
      ]
     },
     "execution_count": 49,
     "metadata": {},
     "output_type": "execute_result"
    }
   ],
   "source": [
    "# find baseline accuracy\n",
    "y.value_counts(normalize = True)  "
   ]
  },
  {
   "cell_type": "code",
   "execution_count": 50,
   "metadata": {},
   "outputs": [],
   "source": [
    "# train-test split\n",
    "# can use \"class_weights = \" if we want \n",
    "X_train, X_test, y_train, y_test = train_test_split(X, y, random_state = 42, stratify = y)"
   ]
  },
  {
   "cell_type": "markdown",
   "metadata": {},
   "source": [
    "### STOP WORDS\n",
    "Setting up custom `stop_words` list to ensure subreddit title and closely-associated terms are not used in model. "
   ]
  },
  {
   "cell_type": "code",
   "execution_count": 52,
   "metadata": {},
   "outputs": [],
   "source": [
    "reddit_stopwords = [ 'porsche', 'tesla', 'taycan', 'model', 'car', 'xplaid', 'turbo', 'http', 'https', 'com', 'elon', 'musk']\n",
    "stopwords = text.ENGLISH_STOP_WORDS.union(reddit_stopwords)"
   ]
  },
  {
   "cell_type": "markdown",
   "metadata": {},
   "source": [
    "#### Count Vector Setup to Assess Dimensionality"
   ]
  },
  {
   "cell_type": "code",
   "execution_count": 53,
   "metadata": {},
   "outputs": [],
   "source": [
    "# Instantiate a CountVectorizer\n",
    "cvec = CountVectorizer(stop_words=stopwords)\n",
    "# Fit & transform the vectorizer on our training corpus.\n",
    "Xcvec_train = cvec.fit_transform(X_train)"
   ]
  },
  {
   "cell_type": "code",
   "execution_count": 54,
   "metadata": {},
   "outputs": [
    {
     "data": {
      "text/plain": [
       "((3402, 8135), (1135, 8135))"
      ]
     },
     "execution_count": 54,
     "metadata": {},
     "output_type": "execute_result"
    }
   ],
   "source": [
    "# Transform the test corpus.\n",
    "Xcvec_test = cvec.transform(X_test)\n",
    "Xcvec_train.shape, Xcvec_test.shape "
   ]
  },
  {
   "cell_type": "markdown",
   "metadata": {},
   "source": [
    "#### Preliminary Visualization"
   ]
  },
  {
   "cell_type": "code",
   "execution_count": 55,
   "metadata": {},
   "outputs": [
    {
     "data": {
      "image/png": "[encoded data removed]",
      "text/plain": [
       "<Figure size 700x500 with 1 Axes>"
      ]
     },
     "metadata": {},
     "output_type": "display_data"
    }
   ],
   "source": [
    "Xcv_train_df = pd.DataFrame(Xcvec_train.todense(), \n",
    "                          columns=cvec.get_feature_names())\n",
    "Xcv_train_df.head()\n",
    "\n",
    "#plot top occuring words\n",
    "f, ax = plt.subplots(figsize=(7,5))\n",
    "ax.tick_params(bottom=False, left = False)  # remove the ticks\n",
    "\n",
    "Xcv_train_df.sum().sort_values(ascending = False).head(20).plot(kind = 'barh', color = \"steelblue\" );\n",
    "\n",
    "(sns.despine(left=True, bottom=True))"
   ]
  },
  {
   "cell_type": "markdown",
   "metadata": {},
   "source": [
    "#### Grid and Pipe Setup, Fit, Score"
   ]
  },
  {
   "cell_type": "code",
   "execution_count": 57,
   "metadata": {},
   "outputs": [],
   "source": [
    "pipe = Pipeline([                                                   # Instantiate\n",
    "    ('cvec', CountVectorizer(stop_words = stopwords)),              # 1. CountVectorizer (transformer)\n",
    "    ('model', LogisticRegression(max_iter = 1000))                  # 2. Logistic Regression (estimator)\n",
    "])"
   ]
  },
  {
   "cell_type": "code",
   "execution_count": 58,
   "metadata": {},
   "outputs": [],
   "source": [
    "# FIT model\n",
    "pipe.fit(X_train, y_train);        "
   ]
  },
  {
   "cell_type": "code",
   "execution_count": 59,
   "metadata": {},
   "outputs": [
    {
     "data": {
      "text/plain": [
       "[0.7116402116402117, 0.9567901234567902, 0.7444933920704846]"
      ]
     },
     "execution_count": 59,
     "metadata": {},
     "output_type": "execute_result"
    }
   ],
   "source": [
    "### all accuracy metrics \n",
    "x= ['x-val', 'RF Train', 'RF Test']\n",
    "model_mets = [ \n",
    "    cross_val_score(pipe, X_train, y_train, cv=3).mean(),   # estimate with x-val\n",
    "    pipe.score(X_train, y_train),                           # train score \n",
    "    pipe.score(X_test, y_test)                              # test score \n",
    "     ]\n",
    "model_mets"
   ]
  },
  {
   "cell_type": "code",
   "execution_count": 16,
   "metadata": {},
   "outputs": [],
   "source": [
    "#pipe.best_estimator_.named_steps.get_params()\n",
    "#gs.best_estimator_.named_steps.get_params()\n",
    "#pipe.get_params()"
   ]
  },
  {
   "cell_type": "code",
   "execution_count": 60,
   "metadata": {},
   "outputs": [
    {
     "data": {
      "image/png": "[encoded data removed]",
      "text/plain": [
       "<Figure size 600x400 with 1 Axes>"
      ]
     },
     "metadata": {},
     "output_type": "display_data"
    }
   ],
   "source": [
    "f, ax = plt.subplots(figsize=(6, 4))\n",
    "ax.tick_params(bottom=False, left = False)  # remove the ticks\n",
    "plt.xlabel('Accuracy')\n",
    "\n",
    "sns.despine(left=True, bottom=True)\n",
    "sns.barplot(y = x, x = model_mets, palette='ocean')\n",
    "plt.show()"
   ]
  },
  {
   "cell_type": "code",
   "execution_count": 85,
   "metadata": {},
   "outputs": [],
   "source": [
    "# Get predictions\n",
    "preds = pipe.predict(X_test)\n",
    "\n",
    "# Save confusion matrix values\n",
    "tn, fp, fn, tp = confusion_matrix(y_test, preds).ravel()"
   ]
  },
  {
   "cell_type": "code",
   "execution_count": 84,
   "metadata": {},
   "outputs": [
    {
     "data": {
      "text/plain": [
       "[0.7527, 0.7496, 0.7396]"
      ]
     },
     "execution_count": 84,
     "metadata": {},
     "output_type": "execute_result"
    }
   ],
   "source": [
    "# precision, specificity, recall \n",
    "class_mets = [\n",
    "    round(tp/(tp + fp), 4),\n",
    "    round(tn/(tn + fp), 4), \n",
    "    round(tp/(tp + fn), 4)\n",
    "]\n",
    "class_mets\n",
    "\n",
    "# lower recall means fewer Teslas were correcctly IDed, and slightly higher specificity shows better classification for Taycan"
   ]
  },
  {
   "cell_type": "code",
   "execution_count": 62,
   "metadata": {},
   "outputs": [
    {
     "data": {
      "image/png": "[encoded data removed]",
      "text/plain": [
       "<Figure size 600x400 with 2 Axes>"
      ]
     },
     "metadata": {},
     "output_type": "display_data"
    }
   ],
   "source": [
    "sub_1 = \"Tesla X\"\n",
    "sub_2 = \"Taycan\"\n",
    "\n",
    "plot_confusion_matrix(pipe, X_test, y_test, cmap = 'Blues', display_labels = [sub_2, sub_1]);\n",
    "(sns.despine(left=True, bottom=True))"
   ]
  },
  {
   "cell_type": "code",
   "execution_count": 63,
   "metadata": {},
   "outputs": [
    {
     "data": {
      "text/html": [
       "<div>\n",
       "<style scoped>\n",
       "    .dataframe tbody tr th:only-of-type {\n",
       "        vertical-align: middle;\n",
       "    }\n",
       "\n",
       "    .dataframe tbody tr th {\n",
       "        vertical-align: top;\n",
       "    }\n",
       "\n",
       "    .dataframe thead th {\n",
       "        text-align: right;\n",
       "    }\n",
       "</style>\n",
       "<table border=\"1\" class=\"dataframe\">\n",
       "  <thead>\n",
       "    <tr style=\"text-align: right;\">\n",
       "      <th></th>\n",
       "      <th>corpus</th>\n",
       "    </tr>\n",
       "  </thead>\n",
       "  <tbody>\n",
       "    <tr>\n",
       "      <th>1973</th>\n",
       "      <td>the milage is never actuate anyway i got a  x ...</td>\n",
       "    </tr>\n",
       "    <tr>\n",
       "      <th>1263</th>\n",
       "      <td>same order time but i still have september for...</td>\n",
       "    </tr>\n",
       "    <tr>\n",
       "      <th>1624</th>\n",
       "      <td>wasnt there a quote from tesla that they were ...</td>\n",
       "    </tr>\n",
       "    <tr>\n",
       "      <th>236</th>\n",
       "      <td>my god are you in heaven rn</td>\n",
       "    </tr>\n",
       "    <tr>\n",
       "      <th>42</th>\n",
       "      <td>cad  usd would be about  cad d</td>\n",
       "    </tr>\n",
       "    <tr>\n",
       "      <th>647</th>\n",
       "      <td>no one knows for sure theres nothing wrong wit...</td>\n",
       "    </tr>\n",
       "    <tr>\n",
       "      <th>189</th>\n",
       "      <td>yep still happening and got several inches of ...</td>\n",
       "    </tr>\n",
       "    <tr>\n",
       "      <th>1780</th>\n",
       "      <td>nope  i thought it might be because we have th...</td>\n",
       "    </tr>\n",
       "    <tr>\n",
       "      <th>1094</th>\n",
       "      <td>this couldnt agree with this more</td>\n",
       "    </tr>\n",
       "    <tr>\n",
       "      <th>1223</th>\n",
       "      <td>im assuming its a hv wiring harness to the mot...</td>\n",
       "    </tr>\n",
       "    <tr>\n",
       "      <th>118</th>\n",
       "      <td>its not a bad car at all you will love it a st...</td>\n",
       "    </tr>\n",
       "    <tr>\n",
       "      <th>1602</th>\n",
       "      <td>what is your cabin temperature if it too cold ...</td>\n",
       "    </tr>\n",
       "    <tr>\n",
       "      <th>1026</th>\n",
       "      <td>no confirm there</td>\n",
       "    </tr>\n",
       "    <tr>\n",
       "      <th>513</th>\n",
       "      <td>phew yes so my car gets  miles from a full cha...</td>\n",
       "    </tr>\n",
       "    <tr>\n",
       "      <th>1908</th>\n",
       "      <td>this is actually correct</td>\n",
       "    </tr>\n",
       "    <tr>\n",
       "      <th>827</th>\n",
       "      <td>need to do it tomorrow since i cant do it on m...</td>\n",
       "    </tr>\n",
       "    <tr>\n",
       "      <th>973</th>\n",
       "      <td>k with k miles</td>\n",
       "    </tr>\n",
       "    <tr>\n",
       "      <th>1753</th>\n",
       "      <td>carmax offers max care up to k or  years tesla...</td>\n",
       "    </tr>\n",
       "    <tr>\n",
       "      <th>842</th>\n",
       "      <td>on the rear hatch it will say dual motor on th...</td>\n",
       "    </tr>\n",
       "    <tr>\n",
       "      <th>1673</th>\n",
       "      <td>i came from a porsche panamera  and i am amaze...</td>\n",
       "    </tr>\n",
       "    <tr>\n",
       "      <th>711</th>\n",
       "      <td>way cool</td>\n",
       "    </tr>\n",
       "    <tr>\n",
       "      <th>1872</th>\n",
       "      <td>vins th letter m   n   the mvpa will also expl...</td>\n",
       "    </tr>\n",
       "    <tr>\n",
       "      <th>1853</th>\n",
       "      <td>beautiful congrats</td>\n",
       "    </tr>\n",
       "    <tr>\n",
       "      <th>1166</th>\n",
       "      <td>i ordered the tesla one just for the cable to ...</td>\n",
       "    </tr>\n",
       "    <tr>\n",
       "      <th>1964</th>\n",
       "      <td>im pretty sure it was supposed to come with on...</td>\n",
       "    </tr>\n",
       "    <tr>\n",
       "      <th>1537</th>\n",
       "      <td>hahahaha too much too much i want to be that g...</td>\n",
       "    </tr>\n",
       "    <tr>\n",
       "      <th>829</th>\n",
       "      <td>will do</td>\n",
       "    </tr>\n",
       "    <tr>\n",
       "      <th>1705</th>\n",
       "      <td>you too did you get the blue i hope it shows u...</td>\n",
       "    </tr>\n",
       "    <tr>\n",
       "      <th>691</th>\n",
       "      <td>oh wow gorgeous would love to know who did tha...</td>\n",
       "    </tr>\n",
       "    <tr>\n",
       "      <th>1453</th>\n",
       "      <td>i certainly hope thats the case but at this po...</td>\n",
       "    </tr>\n",
       "    <tr>\n",
       "      <th>1636</th>\n",
       "      <td>electrecco</td>\n",
       "    </tr>\n",
       "    <tr>\n",
       "      <th>214</th>\n",
       "      <td>we share the same concerns</td>\n",
       "    </tr>\n",
       "    <tr>\n",
       "      <th>104</th>\n",
       "      <td>that is confirmed to be the case</td>\n",
       "    </tr>\n",
       "    <tr>\n",
       "      <th>697</th>\n",
       "      <td>i believe theyre for your phone charger by you...</td>\n",
       "    </tr>\n",
       "    <tr>\n",
       "      <th>800</th>\n",
       "      <td>everyones different  myself switching configur...</td>\n",
       "    </tr>\n",
       "    <tr>\n",
       "      <th>1009</th>\n",
       "      <td>cant give you a quote huh had no problem insur...</td>\n",
       "    </tr>\n",
       "    <tr>\n",
       "      <th>1150</th>\n",
       "      <td>wowi found things quieter but this is with dif...</td>\n",
       "    </tr>\n",
       "    <tr>\n",
       "      <th>668</th>\n",
       "      <td>eragon fan cause i can dig it</td>\n",
       "    </tr>\n",
       "    <tr>\n",
       "      <th>853</th>\n",
       "      <td>linking key to driver profile</td>\n",
       "    </tr>\n",
       "    <tr>\n",
       "      <th>764</th>\n",
       "      <td>mine moved to july this morning</td>\n",
       "    </tr>\n",
       "  </tbody>\n",
       "</table>\n",
       "</div>"
      ],
      "text/plain": [
       "                                                 corpus\n",
       "1973  the milage is never actuate anyway i got a  x ...\n",
       "1263  same order time but i still have september for...\n",
       "1624  wasnt there a quote from tesla that they were ...\n",
       "236                         my god are you in heaven rn\n",
       "42                       cad  usd would be about  cad d\n",
       "647   no one knows for sure theres nothing wrong wit...\n",
       "189   yep still happening and got several inches of ...\n",
       "1780  nope  i thought it might be because we have th...\n",
       "1094                  this couldnt agree with this more\n",
       "1223  im assuming its a hv wiring harness to the mot...\n",
       "118   its not a bad car at all you will love it a st...\n",
       "1602  what is your cabin temperature if it too cold ...\n",
       "1026                                   no confirm there\n",
       "513   phew yes so my car gets  miles from a full cha...\n",
       "1908                           this is actually correct\n",
       "827   need to do it tomorrow since i cant do it on m...\n",
       "973                                      k with k miles\n",
       "1753  carmax offers max care up to k or  years tesla...\n",
       "842   on the rear hatch it will say dual motor on th...\n",
       "1673  i came from a porsche panamera  and i am amaze...\n",
       "711                                            way cool\n",
       "1872  vins th letter m   n   the mvpa will also expl...\n",
       "1853                                 beautiful congrats\n",
       "1166  i ordered the tesla one just for the cable to ...\n",
       "1964  im pretty sure it was supposed to come with on...\n",
       "1537  hahahaha too much too much i want to be that g...\n",
       "829                                            will do \n",
       "1705  you too did you get the blue i hope it shows u...\n",
       "691   oh wow gorgeous would love to know who did tha...\n",
       "1453  i certainly hope thats the case but at this po...\n",
       "1636                                         electrecco\n",
       "214                         we share the same concerns \n",
       "104                    that is confirmed to be the case\n",
       "697   i believe theyre for your phone charger by you...\n",
       "800   everyones different  myself switching configur...\n",
       "1009  cant give you a quote huh had no problem insur...\n",
       "1150  wowi found things quieter but this is with dif...\n",
       "668                       eragon fan cause i can dig it\n",
       "853                      linking key to driver profile \n",
       "764                     mine moved to july this morning"
      ]
     },
     "execution_count": 63,
     "metadata": {},
     "output_type": "execute_result"
    }
   ],
   "source": [
    "mask = (y_test != preds) & (preds == 0)\n",
    "false_negatives = pd.DataFrame(X_test[mask])\n",
    "\n",
    "# exporting missed comments to analyse\n",
    "df.to_csv('../data/missed02.txt', index = False)\n",
    "\n",
    "false_negatives[:40]"
   ]
  },
  {
   "cell_type": "markdown",
   "metadata": {},
   "source": [
    "#### Model Performance\n",
    "\n",
    "Model   | Transformer       | Classifier            | $n$  | x-val   | Train    | Test   |  Precision    | Specificity   | Recall\n",
    "---     |---                | ---                   | ---  | ---     | ---      | ---    |  ---          | ---           | ---\n",
    "1       | Count Vectorizer  | Logistic Regressor    | 2605 | 0.7373  | 0.9723   | 0.7515 | 0.7436        | 0.7179        | 0.7838 \n",
    "2       | Count Vectorizer  | Logistic Regressor    | 4537 | 0.7111  | 0.9568   | 0.7436 | 0.7527        |  0.7496       | 0.7396"
   ]
  },
  {
   "cell_type": "markdown",
   "metadata": {},
   "source": [
    "## Creating Visalizations of Word Counts"
   ]
  },
  {
   "cell_type": "code",
   "execution_count": 64,
   "metadata": {},
   "outputs": [],
   "source": [
    "# make new cvec for class 0 \n",
    "# make new cvec for class 1 \n",
    "\n",
    "c0 = df[df['class'] == 0 ]\n",
    "c1 = df[df['class'] == 1 ]"
   ]
  },
  {
   "cell_type": "code",
   "execution_count": 65,
   "metadata": {},
   "outputs": [],
   "source": [
    "\n",
    "c0 = df[df['class'] == 0 ]\n",
    "c1 = df[df['class'] == 1 ]\n",
    "\n",
    "x0 = c0['corpus']\n",
    "y0 = c0['class']\n",
    "\n",
    "x1 = c1['corpus']\n",
    "y1 = c1['class']\n",
    "\n",
    "# Instantiate a CountVectorizer\n",
    "cvec0 = CountVectorizer(stop_words = stopwords)\n",
    "cvec1 = CountVectorizer(stop_words = stopwords)\n",
    "\n",
    "# Fit & transform the vectorizer on our training corpus.\n",
    "cv0 = cvec0.fit_transform(x0)\n",
    "cv1 = cvec1.fit_transform(x1)"
   ]
  },
  {
   "cell_type": "code",
   "execution_count": 68,
   "metadata": {},
   "outputs": [],
   "source": [
    "# Transform the test corpus.\n",
    "cv0 = cvec0.transform(x0)\n",
    "cv1 = cvec1.transform(x1)\n",
    "\n",
    "# make dense array\n",
    "cv0 = pd.DataFrame(cv0.todense(), columns=cvec0.get_feature_names())\n",
    "cv1 = pd.DataFrame(cv1.todense(), columns=cvec1.get_feature_names())"
   ]
  },
  {
   "cell_type": "code",
   "execution_count": 33,
   "metadata": {},
   "outputs": [
    {
     "data": {
      "image/png": "[encoded data removed]",
      "text/plain": [
       "<Figure size 600x400 with 1 Axes>"
      ]
     },
     "metadata": {},
     "output_type": "display_data"
    }
   ],
   "source": [
    "#plot top occuring words, class 0 = taycan\n",
    "f, ax = plt.subplots(figsize=(6,4))\n",
    "ax.tick_params(bottom=False, left = False)  # remove the ticks\n",
    "\n",
    "cv0.sum().sort_values(ascending = False).head(20).plot(kind = 'barh', color = \"steelblue\" );\n",
    "\n",
    "(sns.despine(left=True, bottom=True))"
   ]
  },
  {
   "cell_type": "code",
   "execution_count": 34,
   "metadata": {},
   "outputs": [
    {
     "data": {
      "image/png": "[encoded data removed]",
      "text/plain": [
       "<Figure size 600x400 with 1 Axes>"
      ]
     },
     "metadata": {},
     "output_type": "display_data"
    }
   ],
   "source": [
    "#plot top occuring words, class 1 = model x\n",
    "f, ax = plt.subplots(figsize=(6,4))\n",
    "ax.tick_params(bottom=False, left = False)  # remove the ticks\n",
    "\n",
    "cv1.sum().sort_values(ascending = False).head(20).plot(kind = 'barh', color = \"steelblue\" );\n",
    "\n",
    "(sns.despine(left=True, bottom=True))"
   ]
  },
  {
   "cell_type": "code",
   "execution_count": 69,
   "metadata": {},
   "outputs": [
    {
     "data": {
      "image/png": "[encoded data removed]",
      "text/plain": [
       "<Figure size 1000x400 with 1 Axes>"
      ]
     },
     "metadata": {},
     "output_type": "display_data"
    }
   ],
   "source": [
    "#plot top occuring words, overall\n",
    "\n",
    "cvec = CountVectorizer(stop_words=stopwords)\n",
    "Xcvec_train = cvec.fit_transform(X_train)\n",
    "\n",
    "Xcvec_test = cvec.transform(X_test)\n",
    "Xcvec_train.shape, Xcvec_test.shape \n",
    "Xcv_train_df = pd.DataFrame(Xcvec_train.todense(), columns=cvec.get_feature_names())\n",
    "Xcv_train_df.head()\n",
    "\n",
    "f, ax = plt.subplots(figsize=(10,4))\n",
    "ax.tick_params(bottom=False, left = False)  # remove the ticks\n",
    "\n",
    "Xcv_train_df.sum().sort_values(ascending = False).head(20).plot(kind = 'barh', color = \"steelblue\" );\n",
    "\n",
    "(sns.despine(left=True, bottom=True))"
   ]
  }
 ],
 "metadata": {
  "interpreter": {
   "hash": "40d3a090f54c6569ab1632332b64b2c03c39dcf918b08424e98f38b5ae0af88f"
  },
  "kernelspec": {
   "display_name": "Python 3.9.7 ('base')",
   "language": "python",
   "name": "python3"
  },
  "language_info": {
   "codemirror_mode": {
    "name": "ipython",
    "version": 3
   },
   "file_extension": ".py",
   "mimetype": "text/x-python",
   "name": "python",
   "nbconvert_exporter": "python",
   "pygments_lexer": "ipython3",
   "version": "3.9.7"
  },
  "orig_nbformat": 4
 },
 "nbformat": 4,
 "nbformat_minor": 2
}
